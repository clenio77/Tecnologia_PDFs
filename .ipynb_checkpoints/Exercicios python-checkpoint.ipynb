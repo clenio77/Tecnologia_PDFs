{
 "cells": [
  {
   "cell_type": "markdown",
   "id": "2dba55ab-a2f4-45ff-9c01-ef6695773be1",
   "metadata": {},
   "source": [
    "# Exercicios Python"
   ]
  },
  {
   "cell_type": "markdown",
   "id": "bc7db43b-ee64-4f0e-a3ed-f2dd17ffe6c5",
   "metadata": {},
   "source": [
    "## PAR OU IMPAR"
   ]
  },
  {
   "cell_type": "code",
   "execution_count": 8,
   "id": "4f66780d-ed94-4b7b-b83c-52fbcc687cca",
   "metadata": {},
   "outputs": [
    {
     "name": "stdin",
     "output_type": "stream",
     "text": [
      "Digite um número:  5\n"
     ]
    },
    {
     "name": "stdout",
     "output_type": "stream",
     "text": [
      "5 é IMPAR\n"
     ]
    }
   ],
   "source": [
    "number = int(input('Digite um número: '))\n",
    "if(number % 2) == 0:\n",
    "    print(f'{number} é PAR')\n",
    "else:\n",
    "    print(f'{number} é IMPAR')"
   ]
  },
  {
   "cell_type": "markdown",
   "id": "e55d8e70-5591-4e36-84ea-e3a12980e930",
   "metadata": {},
   "source": [
    "## WHILE"
   ]
  },
  {
   "cell_type": "code",
   "execution_count": 15,
   "id": "0035ad66-e3bc-466a-ab8d-3f67dd6fa84a",
   "metadata": {},
   "outputs": [
    {
     "name": "stdin",
     "output_type": "stream",
     "text": [
      "Digite um número:  5\n"
     ]
    },
    {
     "name": "stdout",
     "output_type": "stream",
     "text": [
      "5\n",
      "6\n",
      "7\n",
      "8\n",
      "9\n",
      "10\n"
     ]
    }
   ],
   "source": [
    "\n",
    "number = int(input('Digite um número: '))\n",
    "while number <= 10:\n",
    "    print(number)\n",
    "    number += 1"
   ]
  },
  {
   "cell_type": "markdown",
   "id": "3f746dc9-ea01-431a-a676-ecd299697fdf",
   "metadata": {},
   "source": [
    "## FOR"
   ]
  },
  {
   "cell_type": "code",
   "execution_count": 20,
   "id": "43f3e96f-b5e6-4edc-b7c2-1f3cb33d9e48",
   "metadata": {},
   "outputs": [
    {
     "name": "stdout",
     "output_type": "stream",
     "text": [
      "N\n",
      "I\n",
      "K\n",
      "O\n",
      "L\n",
      "A\n",
      " \n",
      "T\n",
      "E\n",
      "S\n",
      "L\n",
      "A\n"
     ]
    }
   ],
   "source": [
    "for i in 'NIKOLA TESLA':\n",
    "    print(i)"
   ]
  },
  {
   "cell_type": "markdown",
   "id": "055d33e2-5fae-463a-af81-22f7b9bba53e",
   "metadata": {},
   "source": [
    "## FOR IN LIST"
   ]
  },
  {
   "cell_type": "code",
   "execution_count": 24,
   "id": "dda5e4cb-acb1-4594-bf44-084f8c798060",
   "metadata": {},
   "outputs": [
    {
     "name": "stdout",
     "output_type": "stream",
     "text": [
      "um\n",
      "dois\n",
      "tres\n",
      "quatro\n",
      "cinco\n",
      "seis\n",
      "sete\n",
      "oito\n"
     ]
    }
   ],
   "source": [
    "list1 = ['um','dois','tres','quatro','cinco','seis','sete','oito']\n",
    "for i in list1:\n",
    "    print(i)"
   ]
  },
  {
   "cell_type": "code",
   "execution_count": null,
   "id": "076c41c9-4db3-4194-9731-d376d8578a2f",
   "metadata": {},
   "outputs": [],
   "source": []
  },
  {
   "cell_type": "code",
   "execution_count": null,
   "id": "c7700a4e-7fae-4622-a842-f5f1c2506b64",
   "metadata": {},
   "outputs": [],
   "source": []
  }
 ],
 "metadata": {
  "kernelspec": {
   "display_name": "Python 3 (ipykernel)",
   "language": "python",
   "name": "python3"
  },
  "language_info": {
   "codemirror_mode": {
    "name": "ipython",
    "version": 3
   },
   "file_extension": ".py",
   "mimetype": "text/x-python",
   "name": "python",
   "nbconvert_exporter": "python",
   "pygments_lexer": "ipython3",
   "version": "3.11.7"
  }
 },
 "nbformat": 4,
 "nbformat_minor": 5
}
